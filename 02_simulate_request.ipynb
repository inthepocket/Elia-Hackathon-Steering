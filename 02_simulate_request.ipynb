{
 "cells": [
  {
   "cell_type": "code",
   "execution_count": 12,
   "metadata": {},
   "outputs": [],
   "source": [
    "import pandas as pd"
   ]
  },
  {
   "cell_type": "code",
   "execution_count": 15,
   "metadata": {},
   "outputs": [],
   "source": [
    "filepath_time_series_data = 'data/ods047_20230325_2cols_renamedcol.csv'\n",
    "\n",
    "df = pd.read_csv(filepath_time_series_data)  #, header=None, names=['time', 'value'])\n",
    "\n",
    "price_column_name = \"price\"\n",
    "\n",
    "\n",
    "ev_comfort_charge_capacity_kwh = int(0.8 * 60)  # 80% of 60kWh\n",
    "ev_max_charge_capacity_kwh = 60  # 60kWh\n",
    "buffer = 0\n",
    "\n",
    "\n",
    "# hardcoded for now\n",
    "ev_pmax = 22  # kW\n",
    "ev_charged_per_quarter = ev_pmax / 4  # kWh\n",
    "\n",
    "\n",
    "ev_charging_quarters_count_comfort = ev_comfort_charge_capacity_kwh / ev_charged_per_quarter\n",
    "ev_charging_quarters_count_max = ev_max_charge_capacity_kwh / ev_charged_per_quarter\n",
    "\n",
    "total_quarters_count = len(df)\n",
    "\n",
    "percent_of_quarters_needed_comfort = ev_charging_quarters_count_comfort / total_quarters_count\n",
    "percent_of_quarters_needed_max = ev_charging_quarters_count_max / total_quarters_count\n",
    "\n",
    "\n",
    "df['is_in_lowest_quarters_comfort'] = df[price_column_name] <= df[price_column_name].quantile(percent_of_quarters_needed_comfort)\n",
    "\n",
    "df['is_in_lowest_quarters_max'] = df[price_column_name] <= df[price_column_name].quantile(percent_of_quarters_needed_max)\n"
   ]
  },
  {
   "cell_type": "code",
   "execution_count": 17,
   "metadata": {},
   "outputs": [],
   "source": [
    "highest_price_in_lowest_quarters_comfort = df[df['is_in_lowest_quarters_comfort']][price_column_name].max()\n",
    "\n",
    "highest_price_in_lowest_quarters_max = df[df['is_in_lowest_quarters_max']][price_column_name].max()"
   ]
  },
  {
   "cell_type": "code",
   "execution_count": 18,
   "metadata": {},
   "outputs": [
    {
     "data": {
      "text/plain": [
       "(-427.28, -392.05)"
      ]
     },
     "execution_count": 18,
     "metadata": {},
     "output_type": "execute_result"
    }
   ],
   "source": [
    "highest_price_in_lowest_quarters_comfort, highest_price_in_lowest_quarters_max"
   ]
  },
  {
   "cell_type": "code",
   "execution_count": 20,
   "metadata": {},
   "outputs": [
    {
     "data": {
      "text/plain": [
       "37   -560.62\n",
       "38   -535.97\n",
       "39   -430.33\n",
       "40   -435.29\n",
       "45   -427.28\n",
       "47   -528.36\n",
       "48   -428.31\n",
       "49   -474.04\n",
       "50   -485.94\n",
       "Name: Negative imbalance price, dtype: float64"
      ]
     },
     "execution_count": 20,
     "metadata": {},
     "output_type": "execute_result"
    }
   ],
   "source": [
    "df[df['is_in_lowest_quarters_comfort']][price_column_name]"
   ]
  },
  {
   "cell_type": "code",
   "execution_count": 19,
   "metadata": {},
   "outputs": [
    {
     "data": {
      "text/plain": [
       "37   -560.62\n",
       "38   -535.97\n",
       "39   -430.33\n",
       "40   -435.29\n",
       "45   -427.28\n",
       "47   -528.36\n",
       "48   -428.31\n",
       "49   -474.04\n",
       "50   -485.94\n",
       "53   -392.05\n",
       "87   -394.59\n",
       "Name: Negative imbalance price, dtype: float64"
      ]
     },
     "execution_count": 19,
     "metadata": {},
     "output_type": "execute_result"
    }
   ],
   "source": [
    "df[df['is_in_lowest_quarters_max']][price_column_name]"
   ]
  },
  {
   "cell_type": "code",
   "execution_count": 11,
   "metadata": {},
   "outputs": [
    {
     "name": "stdout",
     "output_type": "stream",
     "text": [
      "                     DateTime  Negative imbalance price  is_in_lowest_quarters\n",
      "0   2024-03-25T23:45:00+01:00                    239.52                  False\n",
      "1   2024-03-25T23:30:00+01:00                    218.06                  False\n",
      "2   2024-03-25T23:15:00+01:00                    139.89                  False\n",
      "3   2024-03-25T23:00:00+01:00                    181.01                  False\n",
      "4   2024-03-25T22:45:00+01:00                    141.38                  False\n",
      "5   2024-03-25T22:30:00+01:00                    136.19                  False\n",
      "6   2024-03-25T22:15:00+01:00                    139.91                  False\n",
      "7   2024-03-25T22:00:00+01:00                    139.09                  False\n",
      "8   2024-03-25T21:45:00+01:00                   -276.10                  False\n",
      "9   2024-03-25T21:30:00+01:00                    135.00                  False\n",
      "10  2024-03-25T21:15:00+01:00                    207.16                  False\n",
      "11  2024-03-25T21:00:00+01:00                    139.92                  False\n",
      "12  2024-03-25T20:45:00+01:00                   -358.04                  False\n",
      "13  2024-03-25T20:30:00+01:00                   -125.37                  False\n",
      "14  2024-03-25T20:15:00+01:00                    221.95                  False\n",
      "15  2024-03-25T20:00:00+01:00                    231.20                  False\n",
      "16  2024-03-25T19:45:00+01:00                    180.00                  False\n",
      "17  2024-03-25T19:30:00+01:00                   -157.25                  False\n",
      "18  2024-03-25T19:15:00+01:00                    377.80                  False\n",
      "19  2024-03-25T19:00:00+01:00                    415.19                  False\n",
      "20  2024-03-25T18:45:00+01:00                    286.82                  False\n",
      "21  2024-03-25T18:30:00+01:00                    263.59                  False\n",
      "22  2024-03-25T18:15:00+01:00                    188.32                  False\n",
      "23  2024-03-25T18:00:00+01:00                    145.56                  False\n",
      "24  2024-03-25T17:45:00+01:00                    204.02                  False\n",
      "25  2024-03-25T17:30:00+01:00                    143.21                  False\n",
      "26  2024-03-25T17:15:00+01:00                    139.89                  False\n",
      "27  2024-03-25T17:00:00+01:00                   -377.50                  False\n",
      "28  2024-03-25T16:45:00+01:00                    139.91                  False\n",
      "29  2024-03-25T16:30:00+01:00                    139.52                  False\n",
      "30  2024-03-25T16:15:00+01:00                    135.71                  False\n",
      "31  2024-03-25T16:00:00+01:00                    135.32                  False\n",
      "32  2024-03-25T15:45:00+01:00                    134.09                  False\n",
      "33  2024-03-25T15:30:00+01:00                   -241.09                  False\n",
      "34  2024-03-25T15:15:00+01:00                   -123.39                  False\n",
      "35  2024-03-25T15:00:00+01:00                   -254.31                  False\n",
      "36  2024-03-25T14:45:00+01:00                   -175.00                  False\n",
      "37  2024-03-25T14:30:00+01:00                   -560.62                   True\n",
      "38  2024-03-25T14:15:00+01:00                   -535.97                   True\n",
      "39  2024-03-25T14:00:00+01:00                   -430.33                   True\n",
      "40  2024-03-25T13:45:00+01:00                   -435.29                   True\n",
      "41  2024-03-25T13:30:00+01:00                    128.36                  False\n",
      "42  2024-03-25T13:15:00+01:00                    122.35                  False\n",
      "43  2024-03-25T13:00:00+01:00                    122.29                  False\n",
      "44  2024-03-25T12:45:00+01:00                    117.82                  False\n",
      "45  2024-03-25T12:30:00+01:00                   -427.28                   True\n",
      "46  2024-03-25T12:15:00+01:00                   -300.00                  False\n",
      "47  2024-03-25T12:00:00+01:00                   -528.36                   True\n",
      "48  2024-03-25T11:45:00+01:00                   -428.31                   True\n",
      "49  2024-03-25T11:30:00+01:00                   -474.04                   True\n",
      "50  2024-03-25T11:15:00+01:00                   -485.94                   True\n",
      "51  2024-03-25T11:00:00+01:00                   -226.72                  False\n",
      "52  2024-03-25T10:45:00+01:00                   -332.29                  False\n",
      "53  2024-03-25T10:30:00+01:00                   -392.05                  False\n",
      "54  2024-03-25T10:15:00+01:00                    -96.48                  False\n",
      "55  2024-03-25T10:00:00+01:00                    200.43                  False\n",
      "56  2024-03-25T09:45:00+01:00                    167.08                  False\n",
      "57  2024-03-25T09:30:00+01:00                    161.70                  False\n",
      "58  2024-03-25T09:15:00+01:00                    296.31                  False\n",
      "59  2024-03-25T09:00:00+01:00                    274.88                  False\n",
      "60  2024-03-25T08:45:00+01:00                    133.71                  False\n",
      "61  2024-03-25T08:30:00+01:00                    154.20                  False\n",
      "62  2024-03-25T08:15:00+01:00                    237.71                  False\n",
      "63  2024-03-25T08:00:00+01:00                    224.51                  False\n",
      "64  2024-03-25T07:45:00+01:00                    119.89                  False\n",
      "65  2024-03-25T07:30:00+01:00                    126.58                  False\n",
      "66  2024-03-25T07:15:00+01:00                     14.26                  False\n",
      "67  2024-03-25T07:00:00+01:00                    233.11                  False\n",
      "68  2024-03-25T06:45:00+01:00                    178.21                  False\n",
      "69  2024-03-25T06:30:00+01:00                    167.43                  False\n",
      "70  2024-03-25T06:15:00+01:00                    169.50                  False\n",
      "71  2024-03-25T06:00:00+01:00                    203.35                  False\n",
      "72  2024-03-25T05:45:00+01:00                    147.10                  False\n",
      "73  2024-03-25T05:30:00+01:00                     10.00                  False\n",
      "74  2024-03-25T05:15:00+01:00                   -129.76                  False\n",
      "75  2024-03-25T05:00:00+01:00                     85.48                  False\n",
      "76  2024-03-25T04:45:00+01:00                    100.10                  False\n",
      "77  2024-03-25T04:30:00+01:00                     85.42                  False\n",
      "78  2024-03-25T04:15:00+01:00                    107.72                  False\n",
      "79  2024-03-25T04:00:00+01:00                    135.00                  False\n",
      "80  2024-03-25T03:45:00+01:00                    140.00                  False\n",
      "81  2024-03-25T03:30:00+01:00                    148.38                  False\n",
      "82  2024-03-25T03:15:00+01:00                    140.78                  False\n",
      "83  2024-03-25T03:00:00+01:00                    140.00                  False\n",
      "84  2024-03-25T02:45:00+01:00                    140.00                  False\n",
      "85  2024-03-25T02:30:00+01:00                    140.00                  False\n",
      "86  2024-03-25T02:15:00+01:00                    140.00                  False\n",
      "87  2024-03-25T02:00:00+01:00                   -394.59                  False\n",
      "88  2024-03-25T01:45:00+01:00                    140.00                  False\n",
      "89  2024-03-25T01:30:00+01:00                    164.24                  False\n",
      "90  2024-03-25T01:15:00+01:00                    140.86                  False\n",
      "91  2024-03-25T01:00:00+01:00                    141.63                  False\n",
      "92  2024-03-25T00:45:00+01:00                    -39.94                  False\n",
      "93  2024-03-25T00:30:00+01:00                      9.98                  False\n",
      "94  2024-03-25T00:15:00+01:00                   -156.37                  False\n",
      "95  2024-03-25T00:00:00+01:00                    140.00                  False\n"
     ]
    }
   ],
   "source": [
    "# print the whole df without truncation\n",
    "pd.set_option('display.max_rows', None)\n",
    "print(df)"
   ]
  },
  {
   "cell_type": "code",
   "execution_count": null,
   "metadata": {},
   "outputs": [],
   "source": []
  }
 ],
 "metadata": {
  "kernelspec": {
   "display_name": ".venv",
   "language": "python",
   "name": "python3"
  },
  "language_info": {
   "codemirror_mode": {
    "name": "ipython",
    "version": 3
   },
   "file_extension": ".py",
   "mimetype": "text/x-python",
   "name": "python",
   "nbconvert_exporter": "python",
   "pygments_lexer": "ipython3",
   "version": "3.9.6"
  }
 },
 "nbformat": 4,
 "nbformat_minor": 2
}
