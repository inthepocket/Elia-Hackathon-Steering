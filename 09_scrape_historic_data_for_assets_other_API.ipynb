{
 "cells": [
  {
   "cell_type": "code",
   "execution_count": 19,
   "metadata": {},
   "outputs": [],
   "source": [
    "import os\n",
    "import time\n",
    "import requests\n",
    "import json\n",
    "from datetime import datetime, timedelta"
   ]
  },
  {
   "cell_type": "code",
   "execution_count": 21,
   "metadata": {},
   "outputs": [],
   "source": [
    "bearer_token = 'aaaaa'"
   ]
  },
  {
   "cell_type": "code",
   "execution_count": null,
   "metadata": {},
   "outputs": [],
   "source": [
    "# Define the date range\n",
    "start_date = datetime(2024, 1, 1)\n",
    "end_date = datetime(2024, 2, 29)\n",
    "\n",
    "headers = {\n",
    "    'Host': 'api-acc.traxes.io',\n",
    "    'User-Agent': 'Mozilla/5.0 (X11; Ubuntu; Linux x86_64; rv:15.0) Gecko/20100101 Firefox/15.0.1',\n",
    "    'Accept': 'application/json',\n",
    "    'Accept-Encoding': 'gzip, deflate, br',\n",
    "    'Connection': 'keep-alive',\n",
    "    'X-Requested-With': 'XMLHttpRequest',\n",
    "    'Authorization': f'Bearer {bearer_token}',\n",
    "}\n",
    "\n",
    "\n",
    "# Loop over each date in the range\n",
    "date = start_date\n",
    "while date <= end_date:\n",
    "    # Format the date as a string\n",
    "    date_str = date.strftime('%Y-%m-%d')\n",
    "\n",
    "    # check if the file already exists\n",
    "    if os.path.exists(f'data_assets/{date_str}.json'):\n",
    "        print(f'File {date_str}.json already exists -- skip!')\n",
    "        date += timedelta(days=1)\n",
    "        continue\n",
    "\n",
    "    # Define the URL for the request\n",
    "    url = f'https://api-acc.traxes.io/hack24/prprd/site-states/startFrom?startDate={date_str}T00:00:00Z&endDate={date_str}T23:59:00Z'\n",
    "\n",
    "    # Make the GET request\n",
    "    response = requests.get(url, headers=headers)\n",
    "\n",
    "    # Check if the request was successful\n",
    "    if response.status_code == 200:\n",
    "        # Save the response as a JSON file\n",
    "        with open(f'data_assets/{date_str}.json', 'w') as f:\n",
    "            json.dump(response.json(), f)\n",
    "            print(f'Request for {date_str} successful.')\n",
    "    else:\n",
    "        print(f'Request for {date_str} failed with status code {response.status_code}.')\n",
    "        print(response.text)\n",
    "\n",
    "    # Move to the next date\n",
    "    date += timedelta(days=1)\n",
    "    # time.sleep(1)"
   ]
  },
  {
   "cell_type": "code",
   "execution_count": null,
   "metadata": {},
   "outputs": [],
   "source": []
  }
 ],
 "metadata": {
  "kernelspec": {
   "display_name": ".venv",
   "language": "python",
   "name": "python3"
  },
  "language_info": {
   "codemirror_mode": {
    "name": "ipython",
    "version": 3
   },
   "file_extension": ".py",
   "mimetype": "text/x-python",
   "name": "python",
   "nbconvert_exporter": "python",
   "pygments_lexer": "ipython3",
   "version": "3.9.6"
  }
 },
 "nbformat": 4,
 "nbformat_minor": 2
}
