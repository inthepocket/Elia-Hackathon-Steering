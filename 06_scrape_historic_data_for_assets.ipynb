{
 "cells": [
  {
   "cell_type": "code",
   "execution_count": 2,
   "metadata": {},
   "outputs": [],
   "source": [
    "import requests\n",
    "import json\n",
    "from datetime import datetime, timedelta"
   ]
  },
  {
   "cell_type": "code",
   "execution_count": 3,
   "metadata": {},
   "outputs": [],
   "source": [
    "bearer_token = 'aaa'"
   ]
  },
  {
   "cell_type": "code",
   "execution_count": 1,
   "metadata": {},
   "outputs": [
    {
     "name": "stdout",
     "output_type": "stream",
     "text": [
      "https://api-acc.traxes.io/hack24/prprd/assets/states?ean=541983310278725782&startDate=2024-01-02T00:00:00Z&endDate=2024-01-02T23:59:00Z\n",
      "https://api-acc.traxes.io/hack24/prprd/assets/states?ean=541792416037150809&startDate=2024-01-02T00:00:00Z&endDate=2024-01-02T23:59:00Z\n",
      "https://api-acc.traxes.io/hack24/prprd/assets/states?ean=541480930594258894&startDate=2024-01-02T00:00:00Z&endDate=2024-01-02T23:59:00Z\n",
      "https://api-acc.traxes.io/hack24/prprd/assets/states?ean=541261957970628703&startDate=2024-01-02T00:00:00Z&endDate=2024-01-02T23:59:00Z\n",
      "https://api-acc.traxes.io/hack24/prprd/assets/states?ean=541560923639711466&startDate=2024-01-02T00:00:00Z&endDate=2024-01-02T23:59:00Z\n",
      "https://api-acc.traxes.io/hack24/prprd/assets/states?ean=541983310278725782&startDate=2024-01-03T00:00:00Z&endDate=2024-01-03T23:59:00Z\n",
      "https://api-acc.traxes.io/hack24/prprd/assets/states?ean=541792416037150809&startDate=2024-01-03T00:00:00Z&endDate=2024-01-03T23:59:00Z\n",
      "https://api-acc.traxes.io/hack24/prprd/assets/states?ean=541480930594258894&startDate=2024-01-03T00:00:00Z&endDate=2024-01-03T23:59:00Z\n",
      "https://api-acc.traxes.io/hack24/prprd/assets/states?ean=541261957970628703&startDate=2024-01-03T00:00:00Z&endDate=2024-01-03T23:59:00Z\n",
      "https://api-acc.traxes.io/hack24/prprd/assets/states?ean=541560923639711466&startDate=2024-01-03T00:00:00Z&endDate=2024-01-03T23:59:00Z\n"
     ]
    }
   ],
   "source": [
    "# Define the EAN numbers and the date range\n",
    "ean_numbers = ['541983310278725782', '541792416037150809', '541480930594258894', '541261957970628703', '541560923639711466']\n",
    "start_date = datetime(2024, 1, 2)\n",
    "end_date = datetime(2024, 1, 3)\n",
    "\n",
    "headers = {\n",
    "    'Host': 'api-acc.traxes.io',\n",
    "    'User-Agent': 'Mozilla/5.0 (X11; Ubuntu; Linux x86_64; rv:15.0) Gecko/20100101 Firefox/15.0.1',\n",
    "    'Accept': 'application/json',\n",
    "    'Accept-Encoding': 'gzip, deflate, br',\n",
    "    'Connection': 'keep-alive',\n",
    "    'X-Requested-With': 'XMLHttpRequest',\n",
    "    'Authorization': f'Bearer {bearer_token}',\n",
    "}\n",
    "\n",
    "\n",
    "# Loop over each date in the range\n",
    "date = start_date\n",
    "while date <= end_date:\n",
    "    # Format the date as a string\n",
    "    date_str = date.strftime('%Y-%m-%d')\n",
    "\n",
    "    # Loop over each EAN number\n",
    "    for ean in ean_numbers:\n",
    "        # Define the URL for the request\n",
    "        url = f'https://api-acc.traxes.io/hack24/prprd/assets/states?ean={ean}&startDate={date_str}T00:00:00Z&endDate={date_str}T23:59:00Z'\n",
    "        print(url)\n",
    "\n",
    "        # Make the GET request\n",
    "        response = requests.get(url, headers=headers)\n",
    "\n",
    "        # Check if the request was successful\n",
    "        if response.status_code == 200:\n",
    "            # Save the response as a JSON file\n",
    "            with open(f'{ean}_{date_str}.json', 'w') as f:\n",
    "                json.dump(response.json(), f)\n",
    "            # Save the response as a JSON file\n",
    "            with open(f'data_assets/{ean}_{date_str}.json', 'w') as f:\n",
    "                json.dump(response.json(), f)\n",
    "        else:\n",
    "            print(f'Request for {ean} on {date_str} failed with status code {response.status_code}.')\n",
    "\n",
    "\n",
    "    # Move to the next date\n",
    "    date += timedelta(days=1)"
   ]
  },
  {
   "cell_type": "code",
   "execution_count": null,
   "metadata": {},
   "outputs": [],
   "source": []
  }
 ],
 "metadata": {
  "kernelspec": {
   "display_name": ".venv",
   "language": "python",
   "name": "python3"
  },
  "language_info": {
   "codemirror_mode": {
    "name": "ipython",
    "version": 3
   },
   "file_extension": ".py",
   "mimetype": "text/x-python",
   "name": "python",
   "nbconvert_exporter": "python",
   "pygments_lexer": "ipython3",
   "version": "3.9.6"
  }
 },
 "nbformat": 4,
 "nbformat_minor": 2
}
